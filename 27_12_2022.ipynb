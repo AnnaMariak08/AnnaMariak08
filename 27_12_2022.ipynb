{
  "nbformat": 4,
  "nbformat_minor": 0,
  "metadata": {
    "colab": {
      "provenance": [],
      "authorship_tag": "ABX9TyNrVugiO+NVJESRVPQeKBWY",
      "include_colab_link": true
    },
    "kernelspec": {
      "name": "python3",
      "display_name": "Python 3"
    },
    "language_info": {
      "name": "python"
    }
  },
  "cells": [
    {
      "cell_type": "markdown",
      "metadata": {
        "id": "view-in-github",
        "colab_type": "text"
      },
      "source": [
        "<a href=\"https://colab.research.google.com/github/AnnaMariak08/AnnaMariak08/blob/main/27_12_2022.ipynb\" target=\"_parent\"><img src=\"https://colab.research.google.com/assets/colab-badge.svg\" alt=\"Open In Colab\"/></a>"
      ]
    },
    {
      "cell_type": "code",
      "execution_count": 2,
      "metadata": {
        "colab": {
          "base_uri": "https://localhost:8080/"
        },
        "id": "XTEJobfIehna",
        "outputId": "ff4b2469-b3a5-437c-fd3c-896501f284db"
      },
      "outputs": [
        {
          "output_type": "stream",
          "name": "stdout",
          "text": [
            "Mounted at /content/drive\n"
          ]
        }
      ],
      "source": [
        "import pandas as pd\n",
        "from google.colab import drive\n",
        "drive.mount('/content/drive')"
      ]
    },
    {
      "cell_type": "code",
      "source": [
        "df = pd.read_excel(r'/content/drive/MyDrive/Colab Notebooks/Abejas prueba#1.xlsx')"
      ],
      "metadata": {
        "id": "IkYvFnE5ot-_"
      },
      "execution_count": 5,
      "outputs": []
    },
    {
      "cell_type": "code",
      "source": [
        "print(df)"
      ],
      "metadata": {
        "colab": {
          "base_uri": "https://localhost:8080/"
        },
        "id": "wiOvEo8ypflS",
        "outputId": "725d8379-a439-4899-f655-e85b3b8aeea7"
      },
      "execution_count": 6,
      "outputs": [
        {
          "output_type": "stream",
          "name": "stdout",
          "text": [
            "                      scientificName           identificationQualifier  \\\n",
            "0                  Nombre científico  Calificador de la identificación   \n",
            "1      Apis mellifera Linnaeus, 1758                               NaN   \n",
            "2      Apis mellifera Linnaeus, 1758                               NaN   \n",
            "3      Apis mellifera Linnaeus, 1758                               NaN   \n",
            "4      Apis mellifera Linnaeus, 1758                               NaN   \n",
            "..                               ...                               ...   \n",
            "210         Euglossa Latreille, 1802                               sp.   \n",
            "211  Partamona testacea (Klug, 1807)                               NaN   \n",
            "212  Partamona testacea (Klug, 1807)                               NaN   \n",
            "213  Partamona testacea (Klug, 1807)                               NaN   \n",
            "214         Ptiloglossa  Smith, 1853                               sp.   \n",
            "\n",
            "               taxonRank   kingdom      phylum    class        order  \\\n",
            "0    Categoría del taxón     Reino        Filo    Clase        Orden   \n",
            "1                especie  Animalia  Arthropoda  Insecta  Hymenoptera   \n",
            "2                especie  Animalia  Arthropoda  Insecta  Hymenoptera   \n",
            "3                especie  Animalia  Arthropoda  Insecta  Hymenoptera   \n",
            "4                especie  Animalia  Arthropoda  Insecta  Hymenoptera   \n",
            "..                   ...       ...         ...      ...          ...   \n",
            "210               género  Animalia  Arthropoda  Insecta  Hymenoptera   \n",
            "211              especie  Animalia  Arthropoda  Insecta  Hymenoptera   \n",
            "212              especie  Animalia  Arthropoda  Insecta  Hymenoptera   \n",
            "213              especie  Animalia  Arthropoda  Insecta  Hymenoptera   \n",
            "214               género  Animalia  Arthropoda  Insecta  Hymenoptera   \n",
            "\n",
            "         family        genus     specificEpithet     infraspecificEpithet  \\\n",
            "0       Familia       Género  Epíteto específico  Epíteto infraespecífico   \n",
            "1        Apidae         Apis           mellifera                      NaN   \n",
            "2        Apidae         Apis           mellifera                      NaN   \n",
            "3        Apidae         Apis           mellifera                      NaN   \n",
            "4        Apidae         Apis           mellifera                      NaN   \n",
            "..          ...          ...                 ...                      ...   \n",
            "210      Apidae     Euglossa                 NaN                      NaN   \n",
            "211      Apidae    Partamona            testacea                      NaN   \n",
            "212      Apidae    Partamona            testacea                      NaN   \n",
            "213      Apidae    Partamona            testacea                      NaN   \n",
            "214  Colletidae  Ptiloglossa                 NaN                      NaN   \n",
            "\n",
            "    vernacularName       individualCount  \\\n",
            "0     Nombre común  Número de individuos   \n",
            "1            Abeja                     1   \n",
            "2            Abeja                     1   \n",
            "3            Abeja                     1   \n",
            "4            Abeja                     1   \n",
            "..             ...                   ...   \n",
            "210          Abeja                     1   \n",
            "211          Abeja                     1   \n",
            "212          Abeja                     1   \n",
            "213          Abeja                     1   \n",
            "214          Abeja                     1   \n",
            "\n",
            "                                              locality  decimalLatitude  \\\n",
            "0                                            Localidad  Latitud decimal   \n",
            "1    Jardín Botánico Joaquín Antonio Uribe de Medellín         6.269166   \n",
            "2    Jardín Botánico Joaquín Antonio Uribe de Medellín         6.270417   \n",
            "3    Jardín Botánico Joaquín Antonio Uribe de Medellín         6.270417   \n",
            "4    Jardín Botánico Joaquín Antonio Uribe de Medellín         6.268998   \n",
            "..                                                 ...              ...   \n",
            "210  Jardín Botánico Joaquín Antonio Uribe de Medellín         6.268998   \n",
            "211  Jardín Botánico Joaquín Antonio Uribe de Medellín         6.268998   \n",
            "212  Jardín Botánico Joaquín Antonio Uribe de Medellín         6.269186   \n",
            "213  Jardín Botánico Joaquín Antonio Uribe de Medellín         6.272016   \n",
            "214  Jardín Botánico Joaquín Antonio Uribe de Medellín         6.270417   \n",
            "\n",
            "     decimalLongitude    geodeticDatum    minimumElevationInMeters  \\\n",
            "0    Longitud decimal  Datum geodésico  Elevación mínima en metros   \n",
            "1          -75.562521            WGS84                     1484.19   \n",
            "2          -75.563493            WGS84                     1482.72   \n",
            "3          -75.563493            WGS84                     1482.72   \n",
            "4          -75.562858            WGS84                     1458.29   \n",
            "..                ...              ...                         ...   \n",
            "210        -75.562858            WGS84                     1458.29   \n",
            "211        -75.562858            WGS84                     1458.29   \n",
            "212        -75.564193            WGS84                     1483.14   \n",
            "213         -75.56301            WGS84                      1480.3   \n",
            "214        -75.563493            WGS84                     1482.72   \n",
            "\n",
            "       maximumElevationInMeters  \n",
            "0    Elevación máxima en metros  \n",
            "1                       1484.19  \n",
            "2                       1482.72  \n",
            "3                       1482.72  \n",
            "4                       1458.29  \n",
            "..                          ...  \n",
            "210                     1458.29  \n",
            "211                     1458.29  \n",
            "212                     1483.14  \n",
            "213                      1480.3  \n",
            "214                     1482.72  \n",
            "\n",
            "[215 rows x 19 columns]\n"
          ]
        }
      ]
    },
    {
      "cell_type": "code",
      "source": [
        "a= len(df)\n",
        "b= type(df)\n",
        "c = df.shape[0]\n",
        "d= df.shape[1]\n",
        "\n",
        "print(a, b, c, d)"
      ],
      "metadata": {
        "colab": {
          "base_uri": "https://localhost:8080/"
        },
        "id": "n8PppfgAp6_T",
        "outputId": "b5bb3dfa-6542-4abb-8e10-c74d7244c6c6"
      },
      "execution_count": 7,
      "outputs": [
        {
          "output_type": "stream",
          "name": "stdout",
          "text": [
            "215 <class 'pandas.core.frame.DataFrame'> 215 19\n"
          ]
        }
      ]
    },
    {
      "cell_type": "code",
      "source": [],
      "metadata": {
        "id": "MZV0dJX7qgfG"
      },
      "execution_count": null,
      "outputs": []
    }
  ]
}